{
 "cells": [
  {
   "cell_type": "code",
   "execution_count": 35,
   "metadata": {
    "collapsed": true
   },
   "outputs": [],
   "source": [
    "import random\n",
    "import itertools\n",
    "from operator import attrgetter"
   ]
  },
  {
   "cell_type": "code",
   "execution_count": 2,
   "metadata": {
    "collapsed": true
   },
   "outputs": [],
   "source": [
    "class Customer:\n",
    "    def __init__(self,arrival_time,service_start_time,service_time):\n",
    "        self.arrival_time=arrival_time\n",
    "        self.service_start_time=service_start_time\n",
    "        self.service_time=service_time\n",
    "        self.service_end_time = self.service_start_time + self.service_time\n",
    "        self.wait = self.service_start_time - self.arrival_time"
   ]
  },
  {
   "cell_type": "code",
   "execution_count": 94,
   "metadata": {
    "collapsed": true
   },
   "outputs": [],
   "source": [
    "class Server:\n",
    "    def __init__(self,free,service_start_time):\n",
    "        self.free=free\n",
    "        self.service_start_time=service_start_time\n",
    "        self.service_end_time = 0"
   ]
  },
  {
   "cell_type": "code",
   "execution_count": 4,
   "metadata": {
    "collapsed": true
   },
   "outputs": [],
   "source": [
    "#a simple function to sample from negative exponential\n",
    "def neg_exp(lambd):\n",
    "    return random.expovariate(lambd)"
   ]
  },
  {
   "cell_type": "code",
   "execution_count": 82,
   "metadata": {
    "collapsed": false
   },
   "outputs": [],
   "source": [
    "def QSim_1(arv, p, simulation_time, explicit = False):\n",
    "    \"\"\"\n",
    "    This is the main function to call to simulate an MM1 queue.\n",
    "    \"\"\"\n",
    "\n",
    "    #Initialise run\n",
    "    t=0\n",
    "\n",
    "    #Initialise empty list to hold all data\n",
    "    Customers=[]\n",
    "    \n",
    "    #The actual simulation happens here:\n",
    "    while t < simulation_time/60:\n",
    "\n",
    "        #calculate arrival date and service time for new customer\n",
    "        if len(Customers)==0:\n",
    "            arrival_time = neg_exp(arv)\n",
    "            service_start_time = arrival_time\n",
    "        else:\n",
    "            arrival_time += neg_exp(arv)\n",
    "            service_start_time = max(arrival_time, Customers[-1].service_end_time)\n",
    "        \n",
    "        service_time = neg_exp(60/p)\n",
    "\n",
    "        #create new customer\n",
    "        Customers.append(Customer(arrival_time,service_start_time,service_time))\n",
    "\n",
    "        #increment clock till next end of service\n",
    "        t=arrival_time\n",
    "    \n",
    "    total_waits=[a.wait for a in Customers]\n",
    "    Tq = sum(total_waits)/len(total_waits)\n",
    "    \n",
    "    if explicit == False:\n",
    "        print('Average waiting time: %d minutes' % (Tq*60))\n",
    "    else:\n",
    "        for i in range(0,len(Customers)-1):\n",
    "            print('Customer %d: Arrival %d, Service start: %d, Service time: %d minutes' % (i+1, Customers[i].arrival_time*60,\n",
    "                                                             Customers[i].service_start_time*60, Customers[i].service_time*60))"
   ]
  },
  {
   "cell_type": "code",
   "execution_count": 28,
   "metadata": {
    "collapsed": false
   },
   "outputs": [
    {
     "name": "stdout",
     "output_type": "stream",
     "text": [
      "Average waiting time: 65 minutes\n"
     ]
    }
   ],
   "source": [
    "QSim_1(13, 25, 60)"
   ]
  },
  {
   "cell_type": "code",
   "execution_count": 83,
   "metadata": {
    "collapsed": false
   },
   "outputs": [
    {
     "name": "stdout",
     "output_type": "stream",
     "text": [
      "Customer 1: Arrival 4, Service start: 4, Service time: 8 minutes\n",
      "Customer 2: Arrival 6, Service start: 12, Service time: 15 minutes\n",
      "Customer 3: Arrival 7, Service start: 27, Service time: 9 minutes\n",
      "Customer 4: Arrival 7, Service start: 36, Service time: 51 minutes\n",
      "Customer 5: Arrival 15, Service start: 88, Service time: 6 minutes\n",
      "Customer 6: Arrival 19, Service start: 95, Service time: 62 minutes\n",
      "Customer 7: Arrival 24, Service start: 157, Service time: 11 minutes\n",
      "Customer 8: Arrival 27, Service start: 169, Service time: 4 minutes\n",
      "Customer 9: Arrival 34, Service start: 173, Service time: 5 minutes\n",
      "Customer 10: Arrival 35, Service start: 178, Service time: 18 minutes\n",
      "Customer 11: Arrival 42, Service start: 197, Service time: 20 minutes\n",
      "Customer 12: Arrival 51, Service start: 217, Service time: 29 minutes\n",
      "Customer 13: Arrival 54, Service start: 246, Service time: 11 minutes\n",
      "Customer 14: Arrival 59, Service start: 258, Service time: 4 minutes\n"
     ]
    }
   ],
   "source": [
    "QSim_1(13, 25, 60, True)"
   ]
  },
  {
   "cell_type": "code",
   "execution_count": null,
   "metadata": {
    "collapsed": true
   },
   "outputs": [],
   "source": [
    "QSim_1(13, 25, 10000, True)"
   ]
  },
  {
   "cell_type": "markdown",
   "metadata": {
    "collapsed": true
   },
   "source": [
    "For multiple servers"
   ]
  },
  {
   "cell_type": "code",
   "execution_count": 127,
   "metadata": {
    "collapsed": false
   },
   "outputs": [],
   "source": [
    "def QSim_m(arv = False, p = False, servers = False, simulation_time=False, explicit = \"Tq\"):\n",
    "    \"\"\"\n",
    "    This is the main function to call to simulate an MM1 queue.\n",
    "    \"\"\"\n",
    "\n",
    "    #If parameters are not input prompt\n",
    "    if not arv:\n",
    "        arv =input('Arrival per hour (1/a): ')\n",
    "    if not p:\n",
    "        p = input('Service time in minutes: ')\n",
    "    if not servers:\n",
    "        servers = input('Number of servers: ')\n",
    "    if not simulation_time:\n",
    "        simulation_time = input('Total simulation time: ')\n",
    "\n",
    "    #Initialise run\n",
    "    t=0\n",
    "\n",
    "    #Initialise empty list to hold all data\n",
    "    Customers=[]\n",
    "    \n",
    "    #Setting the servers\n",
    "    Servers = []\n",
    "    for i in range(servers): Servers.append(Server(1,0))\n",
    "    \n",
    "    #The actual simulation happens here:\n",
    "    while t < int(simulation_time)/60:\n",
    "        \n",
    "        #calculate arrival date and service time for new customer\n",
    "        if len(Customers)==0:\n",
    "            arrival_time = neg_exp(int(arv))\n",
    "            service_start_time = arrival_time\n",
    "        else:\n",
    "            arrival_time += neg_exp(int(arv))\n",
    "              \n",
    "        service_time = neg_exp(60/int(p))\n",
    "        \n",
    "        #Check and compare server service_end_time to t:\n",
    "        for ser in Servers:\n",
    "            if ser.service_end_time < t:\n",
    "                ser.free = 1\n",
    "                \n",
    "        #Check the servers to assign:\n",
    "        #Find the server that finishes the earliest\n",
    "        m = min(x.service_end_time for x in Servers)\n",
    "        for ser in Servers:\n",
    "            if ser.service_end_time == m:\n",
    "                service_start_time = max(arrival_time, m)\n",
    "                ser.service_start_time = max(arrival_time, m)\n",
    "                ser.service_end_time = ser.service_start_time + service_time\n",
    "                ser.free = 0\n",
    "                break      \n",
    "\n",
    "        #create new customer\n",
    "        Customers.append(Customer(arrival_time,service_start_time,service_time))\n",
    "        \n",
    "        #increment clock till next end of service\n",
    "        t=arrival_time\n",
    "    \n",
    "    total_waits=[a.wait for a in Customers]\n",
    "    Tq = sum(total_waits)/len(total_waits)\n",
    "    \n",
    "    if explicit == 'Tq':\n",
    "        print('Average waiting time: %d minutes' % (Tq*60))\n",
    "    elif explicit == 'Flow':\n",
    "        for i in range(0,len(Customers)-1):\n",
    "            print('Customer %d: Arrival %d, Service start: %d, Service time: %d minutes, Service end time: %d' % (i+1, \n",
    "                                                    Customers[i].arrival_time*60, Customers[i].service_start_time*60, \n",
    "                                                    Customers[i].service_time*60, Customers[i].service_end_time*60))\n",
    "    elif explicit == 'Spill':\n",
    "        spill = sum([1 if x.service_start_time > t else 0 for x in Customers])\n",
    "        print('Customers not served: %d' % spill)\n",
    "    elif explicit == 'Spsi':\n",
    "        spill = sum([1 if x.service_start_time > t else 0 for x in Customers])\n",
    "        return spill"
   ]
  },
  {
   "cell_type": "code",
   "execution_count": 141,
   "metadata": {
    "collapsed": true
   },
   "outputs": [],
   "source": [
    "def QSim_spill(arv = False, p = False, servers = False, simulation_time=False, n = 1000):\n",
    "    simu = []\n",
    "    i = 0\n",
    "    while i < n:\n",
    "        simu.append(float(QSim_m(arv, p, servers, simulation_time, explicit = \"Spsi\")))\n",
    "        i += 1\n",
    "    print('Average customer spillover: %d' % (sum(simu)/len(simu)))\n",
    "    print('Max customer spillover: %d' % (max(simu)))\n",
    "    print('Min customer spillover: %d' % (min(simu)))"
   ]
  },
  {
   "cell_type": "code",
   "execution_count": 135,
   "metadata": {
    "collapsed": false
   },
   "outputs": [
    {
     "name": "stdout",
     "output_type": "stream",
     "text": [
      "Customers not served: 7\n"
     ]
    }
   ],
   "source": [
    "QSim_m(13, 25, 3, 60, 'Spill')"
   ]
  },
  {
   "cell_type": "code",
   "execution_count": 136,
   "metadata": {
    "collapsed": false
   },
   "outputs": [
    {
     "data": {
      "text/plain": [
       "5"
      ]
     },
     "execution_count": 136,
     "metadata": {},
     "output_type": "execute_result"
    }
   ],
   "source": [
    "QSim_m(13, 25, 3, 60, 'Spsi')"
   ]
  },
  {
   "cell_type": "code",
   "execution_count": 149,
   "metadata": {
    "collapsed": false
   },
   "outputs": [
    {
     "name": "stdout",
     "output_type": "stream",
     "text": [
      "Average customer spillover: 5\n",
      "Max customer spillover: 20\n",
      "Min customer spillover: 0\n"
     ]
    }
   ],
   "source": [
    "QSim_spill(arv = 13, p = 25, servers = 3, simulation_time = 60, n= 10000)"
   ]
  },
  {
   "cell_type": "code",
   "execution_count": null,
   "metadata": {
    "collapsed": true
   },
   "outputs": [],
   "source": []
  }
 ],
 "metadata": {
  "kernelspec": {
   "display_name": "Python 3",
   "language": "python",
   "name": "python3"
  },
  "language_info": {
   "codemirror_mode": {
    "name": "ipython",
    "version": 3
   },
   "file_extension": ".py",
   "mimetype": "text/x-python",
   "name": "python",
   "nbconvert_exporter": "python",
   "pygments_lexer": "ipython3",
   "version": "3.5.2"
  }
 },
 "nbformat": 4,
 "nbformat_minor": 0
}
